{
 "cells": [
  {
   "cell_type": "code",
   "execution_count": null,
   "id": "8b104637",
   "metadata": {},
   "outputs": [],
   "source": [
    "python assignment-10thjune\n",
    "Q-1) User defined functions vs built in functions \n",
    "\n",
    "Ans-1) User defined functions are functions that are defined by the user to cater the custom needs whereas built in functions come along with the python and just needs the argument to call and apply \n",
    "\n",
    "Q-2) How can you pass arguments to a function in Python? Explain the difference between positional\n",
    "arguments and keyword arguments.\n",
    "Ans-2) we can pass the arguments while defining the function after name of the function and stored it in the parenthesis \n",
    "\n",
    "Positional arguments - In positional arguments we have to be careful with the order of the arguments let's say we have the function f(x,y) if we pass the f(y,x) it will give us the unexpected output as it will take y in the position of x and x in the position of y and will carry out the results accordingly \n",
    "\n",
    "Keywords arguments -In the keywords arguments we are defining the arguments with the keywords which will make the order of arguments not neccesarry and will carry out the results based on the keywords given \n",
    "\n",
    "\n",
    "Q-3)  What is the purpose of the return statement in a function? Can a function have multiple return\n",
    "statements? Explain with an example\n",
    "\n",
    "ans-3) The return statement ends the execution of the function and will work while calling the function to return the end output of the function with given arguments \n",
    "\n",
    "yes the python function can have the multiple return statements based on the condition \n",
    "\n",
    "for example :\n",
    " if a/b==1:\n",
    " return 'a is equal to b'\n",
    " elif a/b!=1:\n",
    " return ' a is not equal to b'\n",
    " \n",
    " Q-4) 4. What are lambda functions in Python? How are they different from regular functions? Provide ans example where a lambda function can be useful.\n",
    " ans-4) Lambda functions are the type of functions that can take multiple arguments but only one expression in the function body for eg - lambda a,b: a+b whereas in the regular function we can have a multiple expressions for the arguments, lambda function can be useful for row transformation for eg\n",
    "lambda X:X^2 , then applying it to list -list_1=[1,2,3] ,sq_list=list(map(lambda X:X^2 ,list_1)\n",
    "\n",
    "Q-5) How does the concept of \"scope\" apply to functions in Python? Explain the difference between local scope and global scope.\n",
    "ans-5) scope is all about the accesibility of the variable if the variable has local scope then it is assigned inside the function and cannot be accesed or used outside the function whereas if the variable has global scope and is defined outside the function then it can used anywhere in the script in any functions \n",
    "\n",
    "Q-6). How can you use the \"return\" statement in a Python function to return multiple values?\n",
    "ans-6)n Python, you can use the return statement in a function to return multiple values by returning them as a tuple, list, or any other iterable object for eg -\n",
    "def get_values():\n",
    "    x = 10\n",
    "    y = 20\n",
    "    return [x, y]\n",
    "    \n",
    "calling get_values() will return list [10,20]\n"
   ]
  },
  {
   "cell_type": "code",
   "execution_count": 5,
   "id": "e182e0ea",
   "metadata": {},
   "outputs": [
    {
     "data": {
      "text/plain": [
       "0.768621786840241"
      ]
     },
     "execution_count": 5,
     "metadata": {},
     "output_type": "execute_result"
    }
   ],
   "source": [
    "#Q-8 a) Logarithmic function (log x)\n",
    "import math\n",
    "def log1(x):\n",
    "    return math.log(10,x)\n",
    "log1(20)"
   ]
  },
  {
   "cell_type": "code",
   "execution_count": 7,
   "id": "e751fb2d",
   "metadata": {},
   "outputs": [
    {
     "data": {
      "text/plain": [
       "7.38905609893065"
      ]
     },
     "execution_count": 7,
     "metadata": {},
     "output_type": "execute_result"
    }
   ],
   "source": [
    "#Q-9 b) exponential functions \n",
    "def expo(x):\n",
    "    return math.exp(x)\n",
    "\n",
    "expo(2)"
   ]
  },
  {
   "cell_type": "code",
   "execution_count": 10,
   "id": "5f3c8d54",
   "metadata": {},
   "outputs": [
    {
     "data": {
      "text/plain": [
       "8"
      ]
     },
     "execution_count": 10,
     "metadata": {},
     "output_type": "execute_result"
    }
   ],
   "source": [
    "#Q-9-c.)  Power function with base 2*(2x)\n",
    "def powe(x):\n",
    "    return 2**x\n",
    "powe(3)"
   ]
  },
  {
   "cell_type": "code",
   "execution_count": 12,
   "id": "23ef7db7",
   "metadata": {},
   "outputs": [
    {
     "data": {
      "text/plain": [
       "2.0"
      ]
     },
     "execution_count": 12,
     "metadata": {},
     "output_type": "execute_result"
    }
   ],
   "source": [
    "#Q-9 d.) Square root\n",
    "def sqrt(x):\n",
    "    return x**0.5\n",
    "\n",
    "sqrt(4)"
   ]
  },
  {
   "cell_type": "code",
   "execution_count": 19,
   "id": "524ae76b",
   "metadata": {},
   "outputs": [
    {
     "name": "stdout",
     "output_type": "stream",
     "text": [
      "Naman Dixit\n"
     ]
    },
    {
     "data": {
      "text/plain": [
       "('Naman', 'Dixit')"
      ]
     },
     "execution_count": 19,
     "metadata": {},
     "output_type": "execute_result"
    }
   ],
   "source": [
    "# Q-10) Create a function that takes a full name as an argument and returns first name and last name\n",
    "name=str(input())\n",
    "def name_split(name):\n",
    "    l=name.split(' ')\n",
    "    First_name=l[0]\n",
    "    Last_name=l[1]\n",
    "    return First_name , Last_name\n",
    "name_split(name)"
   ]
  },
  {
   "cell_type": "code",
   "execution_count": null,
   "id": "e259a83b",
   "metadata": {},
   "outputs": [],
   "source": []
  }
 ],
 "metadata": {
  "kernelspec": {
   "display_name": "Python 3 (ipykernel)",
   "language": "python",
   "name": "python3"
  },
  "language_info": {
   "codemirror_mode": {
    "name": "ipython",
    "version": 3
   },
   "file_extension": ".py",
   "mimetype": "text/x-python",
   "name": "python",
   "nbconvert_exporter": "python",
   "pygments_lexer": "ipython3",
   "version": "3.9.12"
  }
 },
 "nbformat": 4,
 "nbformat_minor": 5
}
