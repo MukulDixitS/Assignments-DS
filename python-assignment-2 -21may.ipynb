{
 "cells": [
  {
   "cell_type": "code",
   "execution_count": 1,
   "id": "ac94f9f4",
   "metadata": {},
   "outputs": [],
   "source": [
    "#python basic -2 -21st may"
   ]
  },
  {
   "cell_type": "code",
   "execution_count": 14,
   "id": "cacacb3e",
   "metadata": {},
   "outputs": [
    {
     "name": "stdout",
     "output_type": "stream",
     "text": [
      "First variable is  52 Second variable is 10 \n",
      " Addition: 52 + 10 :  62 \n",
      " Subtraction: 52 - 10 :  42 \n",
      " Multiplication: 52 * 10 :  520 \n",
      " Division: 52 / 10 :  5.2\n"
     ]
    }
   ],
   "source": [
    "#Q-1)\n",
    "A=52\n",
    "B=10\n",
    "print('First variable is'+' ',A,'Second variable is',B,'\\n','Addition:',A,\"+\",B,\":\"+' ',A+B,'\\n','Subtraction:',A,\"-\",B,\":\"+' ',A-B,'\\n','Multiplication:',A,\"*\",B,\":\"+' ',A*B,'\\n','Division:',A,\"/\",B,\":\"+' ',A/B)\n"
   ]
  },
  {
   "cell_type": "code",
   "execution_count": null,
   "id": "8c30b07d",
   "metadata": {},
   "outputs": [],
   "source": [
    "Q-2 -(i)- Difference between '//' and '/' \n",
    "ans- '/' represents the true division and wil return the exact quotient of the division where as '//' is the floor division and will return the quotient by cutting it down to the nearest integer\n",
    "\n",
    "(ii) - '**' is exponential multiplication whereas '^' performs the bitwise XOR operation by converting the int into binary and then applying XOR operation to it \n"
   ]
  },
  {
   "cell_type": "code",
   "execution_count": null,
   "id": "230324ce",
   "metadata": {},
   "outputs": [],
   "source": [
    "Q-3 - Logical operators :-\n",
    "i.) and :- it returns true only when both the conditions are true\n",
    "ii.) or :- it will return true if any of the two conditions are true\n",
    "iii.) not  :- it will inverse the result and will return false for true and vice versa"
   ]
  },
  {
   "cell_type": "code",
   "execution_count": null,
   "id": "199832d2",
   "metadata": {},
   "outputs": [],
   "source": [
    "Q-4 -difference between right shift and left shift operator\n",
    "ans- Both are bitwise operator and will shift the bits to right if right operator and vice versa in the case of left operator , both operator works on the integer , integer gets converted into binary operator and then shift operates on them shifting the bits based on the type"
   ]
  },
  {
   "cell_type": "code",
   "execution_count": 32,
   "id": "b7074671",
   "metadata": {},
   "outputs": [
    {
     "name": "stdout",
     "output_type": "stream",
     "text": [
      "10 is present \n"
     ]
    }
   ],
   "source": [
    "#Q-5) \n",
    "list_1=list(range(15))\n",
    "for i in list_1:\n",
    "    if i==10 :\n",
    "        print('10 is present ')\n",
    "    else :\n",
    "        pass"
   ]
  },
  {
   "cell_type": "code",
   "execution_count": null,
   "id": "9e1ec988",
   "metadata": {},
   "outputs": [],
   "source": []
  }
 ],
 "metadata": {
  "kernelspec": {
   "display_name": "Python 3 (ipykernel)",
   "language": "python",
   "name": "python3"
  },
  "language_info": {
   "codemirror_mode": {
    "name": "ipython",
    "version": 3
   },
   "file_extension": ".py",
   "mimetype": "text/x-python",
   "name": "python",
   "nbconvert_exporter": "python",
   "pygments_lexer": "ipython3",
   "version": "3.9.12"
  }
 },
 "nbformat": 4,
 "nbformat_minor": 5
}
